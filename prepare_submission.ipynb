{
 "cells": [
  {
   "cell_type": "code",
   "execution_count": 47,
   "metadata": {},
   "outputs": [],
   "source": [
    "binarize = True\n",
    "model_type = \"classification\"\n",
    "remove_trend = False # Bad parameters (decrease performance)\n",
    "lag_features = True\n",
    "use_raw = True\n",
    "\n",
    "save_model = False\n",
    "model_name = \"XGBReg\"\n",
    "parameters = \"lagfeatures_removetrend_betterfeatures\""
   ]
  },
  {
   "cell_type": "code",
   "execution_count": 48,
   "metadata": {},
   "outputs": [
    {
     "name": "stdout",
     "output_type": "stream",
     "text": [
      "The autoreload extension is already loaded. To reload it, use:\n",
      "  %reload_ext autoreload\n"
     ]
    }
   ],
   "source": [
    "import pandas as pd\n",
    "from src.models import build_model\n",
    "from src.processing import process_features,process_target, impute_na\n",
    "from src.evaluation import evaluate, evaluate_forecaster\n",
    "\n",
    "# Inport SVR model\n",
    "from sklearn.svm import SVR\n",
    "import darts\n",
    "\n",
    "%load_ext autoreload\n",
    "%autoreload 2"
   ]
  },
  {
   "cell_type": "code",
   "execution_count": 49,
   "metadata": {},
   "outputs": [
    {
     "name": "stderr",
     "output_type": "stream",
     "text": [
      "/mnt/windows/Users/tmdu1/Documents/Thomas/ENS/M2/Cours/Echantillonnage/data_challenge_elmy/src/processing.py:152: FutureWarning: Series.fillna with 'method' is deprecated and will raise in a future version. Use obj.ffill() or obj.bfill() instead.\n",
      "  df_temp[column] = df_temp[column].fillna(method = 'ffill')\n",
      "/mnt/windows/Users/tmdu1/Documents/Thomas/ENS/M2/Cours/Echantillonnage/data_challenge_elmy/src/processing.py:152: FutureWarning: Series.fillna with 'method' is deprecated and will raise in a future version. Use obj.ffill() or obj.bfill() instead.\n",
      "  df_temp[column] = df_temp[column].fillna(method = 'ffill')\n",
      "/mnt/windows/Users/tmdu1/Documents/Thomas/ENS/M2/Cours/Echantillonnage/data_challenge_elmy/src/processing.py:152: FutureWarning: Series.fillna with 'method' is deprecated and will raise in a future version. Use obj.ffill() or obj.bfill() instead.\n",
      "  df_temp[column] = df_temp[column].fillna(method = 'ffill')\n"
     ]
    }
   ],
   "source": [
    "if use_raw:\n",
    "    x_train_raw = pd.read_csv(\"data/x_train.csv\", index_col= 'DELIVERY_START', parse_dates=True)\n",
    "    y_train_raw = pd.read_csv(\"data/y_train.csv\", index_col= 'DELIVERY_START', parse_dates=True)\n",
    "    x_test_raw = pd.read_csv(\"data/x_test.csv\", index_col= 'DELIVERY_START', parse_dates=True)\n",
    "\n",
    "    x_train, x_train_indices = impute_na(x_train_raw)\n",
    "    x_test, x_test_indices = impute_na(x_test_raw)\n",
    "    y_train, y_train_indices = impute_na(y_train_raw)\n",
    "\n",
    "proc_x_train, proc_x_test = process_features(x_train,x_test,remove_trend=remove_trend, lag_features=lag_features)\n",
    "proc_y_train = process_target(y_train, binarize=binarize)"
   ]
  },
  {
   "cell_type": "markdown",
   "metadata": {},
   "source": [
    "## Evaluation"
   ]
  },
  {
   "cell_type": "code",
   "execution_count": 52,
   "metadata": {},
   "outputs": [
    {
     "name": "stderr",
     "output_type": "stream",
     "text": [
      "/mnt/windows/Users/tmdu1/Documents/Thomas/ENS/M2/Cours/Echantillonnage/data_challenge_elmy/.venv/lib/python3.11/site-packages/sklearn/utils/extmath.py:1137: RuntimeWarning: invalid value encountered in divide\n",
      "  updated_mean = (last_sum + new_sum) / updated_sample_count\n",
      "/mnt/windows/Users/tmdu1/Documents/Thomas/ENS/M2/Cours/Echantillonnage/data_challenge_elmy/.venv/lib/python3.11/site-packages/sklearn/utils/extmath.py:1142: RuntimeWarning: invalid value encountered in divide\n",
      "  T = new_sum / new_sample_count\n",
      "/mnt/windows/Users/tmdu1/Documents/Thomas/ENS/M2/Cours/Echantillonnage/data_challenge_elmy/.venv/lib/python3.11/site-packages/sklearn/utils/extmath.py:1162: RuntimeWarning: invalid value encountered in divide\n",
      "  new_unnormalized_variance -= correction**2 / new_sample_count\n"
     ]
    },
    {
     "name": "stdout",
     "output_type": "stream",
     "text": [
      "[   0    1    2 ... 9780 9781 9782]\n",
      "(9783,)\n",
      "Score for split_ratio 0.1 :  0.49452701620989864\n"
     ]
    },
    {
     "name": "stderr",
     "output_type": "stream",
     "text": [
      "/mnt/windows/Users/tmdu1/Documents/Thomas/ENS/M2/Cours/Echantillonnage/data_challenge_elmy/.venv/lib/python3.11/site-packages/sklearn/utils/extmath.py:1137: RuntimeWarning: invalid value encountered in divide\n",
      "  updated_mean = (last_sum + new_sum) / updated_sample_count\n",
      "/mnt/windows/Users/tmdu1/Documents/Thomas/ENS/M2/Cours/Echantillonnage/data_challenge_elmy/.venv/lib/python3.11/site-packages/sklearn/utils/extmath.py:1142: RuntimeWarning: invalid value encountered in divide\n",
      "  T = new_sum / new_sample_count\n",
      "/mnt/windows/Users/tmdu1/Documents/Thomas/ENS/M2/Cours/Echantillonnage/data_challenge_elmy/.venv/lib/python3.11/site-packages/sklearn/utils/extmath.py:1162: RuntimeWarning: invalid value encountered in divide\n",
      "  new_unnormalized_variance -= correction**2 / new_sample_count\n"
     ]
    },
    {
     "name": "stdout",
     "output_type": "stream",
     "text": [
      "[   0    1    2 ... 8693 8694 8695]\n",
      "(8696,)\n",
      "Score for split_ratio 0.2 :  0.5032964110961341\n"
     ]
    },
    {
     "name": "stderr",
     "output_type": "stream",
     "text": [
      "/mnt/windows/Users/tmdu1/Documents/Thomas/ENS/M2/Cours/Echantillonnage/data_challenge_elmy/.venv/lib/python3.11/site-packages/sklearn/utils/extmath.py:1137: RuntimeWarning: invalid value encountered in divide\n",
      "  updated_mean = (last_sum + new_sum) / updated_sample_count\n",
      "/mnt/windows/Users/tmdu1/Documents/Thomas/ENS/M2/Cours/Echantillonnage/data_challenge_elmy/.venv/lib/python3.11/site-packages/sklearn/utils/extmath.py:1142: RuntimeWarning: invalid value encountered in divide\n",
      "  T = new_sum / new_sample_count\n",
      "/mnt/windows/Users/tmdu1/Documents/Thomas/ENS/M2/Cours/Echantillonnage/data_challenge_elmy/.venv/lib/python3.11/site-packages/sklearn/utils/extmath.py:1162: RuntimeWarning: invalid value encountered in divide\n",
      "  new_unnormalized_variance -= correction**2 / new_sample_count\n"
     ]
    },
    {
     "name": "stdout",
     "output_type": "stream",
     "text": [
      "[   0    1    2 ... 7606 7607 7608]\n",
      "(7609,)\n",
      "Score for split_ratio 0.3 :  0.5277097534871159\n"
     ]
    },
    {
     "name": "stderr",
     "output_type": "stream",
     "text": [
      "/mnt/windows/Users/tmdu1/Documents/Thomas/ENS/M2/Cours/Echantillonnage/data_challenge_elmy/.venv/lib/python3.11/site-packages/sklearn/utils/extmath.py:1137: RuntimeWarning: invalid value encountered in divide\n",
      "  updated_mean = (last_sum + new_sum) / updated_sample_count\n",
      "/mnt/windows/Users/tmdu1/Documents/Thomas/ENS/M2/Cours/Echantillonnage/data_challenge_elmy/.venv/lib/python3.11/site-packages/sklearn/utils/extmath.py:1142: RuntimeWarning: invalid value encountered in divide\n",
      "  T = new_sum / new_sample_count\n",
      "/mnt/windows/Users/tmdu1/Documents/Thomas/ENS/M2/Cours/Echantillonnage/data_challenge_elmy/.venv/lib/python3.11/site-packages/sklearn/utils/extmath.py:1162: RuntimeWarning: invalid value encountered in divide\n",
      "  new_unnormalized_variance -= correction**2 / new_sample_count\n"
     ]
    },
    {
     "name": "stdout",
     "output_type": "stream",
     "text": [
      "[   0    1    2 ... 6519 6520 6521]\n",
      "(6522,)\n",
      "Score for split_ratio 0.4 :  0.4793839945513847\n"
     ]
    },
    {
     "name": "stderr",
     "output_type": "stream",
     "text": [
      "/mnt/windows/Users/tmdu1/Documents/Thomas/ENS/M2/Cours/Echantillonnage/data_challenge_elmy/.venv/lib/python3.11/site-packages/sklearn/utils/extmath.py:1137: RuntimeWarning: invalid value encountered in divide\n",
      "  updated_mean = (last_sum + new_sum) / updated_sample_count\n",
      "/mnt/windows/Users/tmdu1/Documents/Thomas/ENS/M2/Cours/Echantillonnage/data_challenge_elmy/.venv/lib/python3.11/site-packages/sklearn/utils/extmath.py:1142: RuntimeWarning: invalid value encountered in divide\n",
      "  T = new_sum / new_sample_count\n",
      "/mnt/windows/Users/tmdu1/Documents/Thomas/ENS/M2/Cours/Echantillonnage/data_challenge_elmy/.venv/lib/python3.11/site-packages/sklearn/utils/extmath.py:1162: RuntimeWarning: invalid value encountered in divide\n",
      "  new_unnormalized_variance -= correction**2 / new_sample_count\n"
     ]
    },
    {
     "name": "stdout",
     "output_type": "stream",
     "text": [
      "[   0    1    2 ... 5432 5433 5434]\n",
      "(5435,)\n",
      "Score for split_ratio 0.5 :  0.4790419378658816\n"
     ]
    },
    {
     "name": "stderr",
     "output_type": "stream",
     "text": [
      "/mnt/windows/Users/tmdu1/Documents/Thomas/ENS/M2/Cours/Echantillonnage/data_challenge_elmy/.venv/lib/python3.11/site-packages/sklearn/utils/extmath.py:1137: RuntimeWarning: invalid value encountered in divide\n",
      "  updated_mean = (last_sum + new_sum) / updated_sample_count\n",
      "/mnt/windows/Users/tmdu1/Documents/Thomas/ENS/M2/Cours/Echantillonnage/data_challenge_elmy/.venv/lib/python3.11/site-packages/sklearn/utils/extmath.py:1142: RuntimeWarning: invalid value encountered in divide\n",
      "  T = new_sum / new_sample_count\n",
      "/mnt/windows/Users/tmdu1/Documents/Thomas/ENS/M2/Cours/Echantillonnage/data_challenge_elmy/.venv/lib/python3.11/site-packages/sklearn/utils/extmath.py:1162: RuntimeWarning: invalid value encountered in divide\n",
      "  new_unnormalized_variance -= correction**2 / new_sample_count\n"
     ]
    },
    {
     "name": "stdout",
     "output_type": "stream",
     "text": [
      "[   0    1    2 ... 4345 4346 4347]\n",
      "(4348,)\n",
      "Score for split_ratio 0.6 :  0.4718919735213818\n"
     ]
    },
    {
     "name": "stderr",
     "output_type": "stream",
     "text": [
      "/mnt/windows/Users/tmdu1/Documents/Thomas/ENS/M2/Cours/Echantillonnage/data_challenge_elmy/.venv/lib/python3.11/site-packages/sklearn/utils/extmath.py:1137: RuntimeWarning: invalid value encountered in divide\n",
      "  updated_mean = (last_sum + new_sum) / updated_sample_count\n",
      "/mnt/windows/Users/tmdu1/Documents/Thomas/ENS/M2/Cours/Echantillonnage/data_challenge_elmy/.venv/lib/python3.11/site-packages/sklearn/utils/extmath.py:1142: RuntimeWarning: invalid value encountered in divide\n",
      "  T = new_sum / new_sample_count\n",
      "/mnt/windows/Users/tmdu1/Documents/Thomas/ENS/M2/Cours/Echantillonnage/data_challenge_elmy/.venv/lib/python3.11/site-packages/sklearn/utils/extmath.py:1162: RuntimeWarning: invalid value encountered in divide\n",
      "  new_unnormalized_variance -= correction**2 / new_sample_count\n"
     ]
    },
    {
     "name": "stdout",
     "output_type": "stream",
     "text": [
      "[   0    1    2 ... 3258 3259 3260]\n",
      "(3261,)\n",
      "Score for split_ratio 0.7 :  0.4740577692545929\n"
     ]
    },
    {
     "data": {
      "image/png": "[encoded data removed]",
      "text/plain": [
       "<Figure size 640x480 with 1 Axes>"
      ]
     },
     "metadata": {},
     "output_type": "display_data"
    }
   ],
   "source": [
    "# Split data\n",
    "for split_ratio in [0.1, 0.2, 0.3, 0.4, 0.5, 0.6, 0.7]:\n",
    "    N_train = int(len(proc_x_train)*split_ratio)\n",
    "    x_train_eval, x_test_eval = process_features(x_train[:N_train], x_train[N_train:], remove_trend=remove_trend, lag_features=lag_features)\n",
    "    y_train_eval, y_test_eval = y_train[:N_train], y_train[N_train:]\n",
    "    y_train_eval = process_target(y_train_eval, binarize=binarize)\n",
    "\n",
    "    # Train model\n",
    "    model = build_model(type=model_type)\n",
    "    if model_type == \"forecaster\":\n",
    "        y = darts.timeseries.TimeSeries.from_series(y_train_eval)\n",
    "        X = darts.timeseries.TimeSeries.from_series(x_train_eval)\n",
    "        model.fit(y, future_covariates=X)\n",
    "    else:\n",
    "        model.fit(x_train_eval, y_train_eval)\n",
    "\n",
    "    # Evaluate model\n",
    "    if model_type == \"forecaster\":\n",
    "        print(evaluate_forecaster(model, x_test_eval, y_test_eval, x_train_indices[0][x_train_indices[0]>=N_train]-N_train))\n",
    "    else:\n",
    "        print(f\"Score for split_ratio {split_ratio} : \", evaluate(model, x_test_eval, y_test_eval, x_train_indices[0][x_train_indices[0]>=N_train]-N_train))\n",
    "\n",
    "# Visualize predictions\n",
    "import matplotlib.pyplot as plt\n",
    "if model_type == \"forecaster\":\n",
    "    #y_train_pred = model.predict(N_train,future_covariates=X)\n",
    "    y_test_pred = model.predict(len(proc_x_train)- N_train,future_covariates=darts.timeseries.TimeSeries.from_series(x_test_eval))\n",
    "    y_test_pred = y_test_pred.pd_dataframe().squeeze()\n",
    "else:\n",
    "    y_train_pred = model.predict(x_train_eval)\n",
    "    y_test_pred = model.predict(x_test_eval)\n",
    "\n",
    "# Plot predictions\n",
    "plt.plot(y_train.index, y_train, label='True')\n",
    "if model_type != \"forecaster\":\n",
    "    plt.plot(x_train_eval.index, y_train_pred, label='Predicted')\n",
    "plt.plot(x_test_eval.index, y_test_pred, label='Test')\n",
    "plt.title('Train predictions')\n",
    "plt.legend()\n",
    "plt.show()\n"
   ]
  },
  {
   "cell_type": "markdown",
   "metadata": {},
   "source": [
    "## Prepare submission"
   ]
  },
  {
   "cell_type": "code",
   "execution_count": 37,
   "metadata": {},
   "outputs": [],
   "source": [
    "# Fit with full data\n",
    "model = build_model(type=model_type)\n",
    "model.fit(proc_x_train, proc_y_train);"
   ]
  },
  {
   "cell_type": "code",
   "execution_count": null,
   "metadata": {},
   "outputs": [
    {
     "name": "stdout",
     "output_type": "stream",
     "text": [
      "4944\n",
      "4942\n"
     ]
    }
   ],
   "source": [
    "if save_model:\n",
    "    from datetime import datetime\n",
    "    y_test_pred = model.predict(proc_x_test)\n",
    "    print(len(y_test_pred))\n",
    "    y_test_pred = y_test_pred[x_test_indices[0]]\n",
    "    print(len(y_test_pred))\n",
    "    y_test_pred = pd.DataFrame(y_test_pred, index=x_test_raw.index, columns=['spot_id_delta'])\n",
    "    y_test_pred.to_csv(f'submission/{datetime.today().date()}_{model_name}_{parameters}.csv', index=True)"
   ]
  },
  {
   "cell_type": "code",
   "execution_count": null,
   "metadata": {},
   "outputs": [],
   "source": []
  }
 ],
 "metadata": {
  "kernelspec": {
   "display_name": ".venv",
   "language": "python",
   "name": "python3"
  },
  "language_info": {
   "codemirror_mode": {
    "name": "ipython",
    "version": 3
   },
   "file_extension": ".py",
   "mimetype": "text/x-python",
   "name": "python",
   "nbconvert_exporter": "python",
   "pygments_lexer": "ipython3",
   "version": "3.11.7"
  }
 },
 "nbformat": 4,
 "nbformat_minor": 2
}
