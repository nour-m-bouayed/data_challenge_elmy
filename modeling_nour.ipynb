{
 "cells": [
  {
   "cell_type": "markdown",
   "metadata": {},
   "source": [
    "## [Import data]"
   ]
  },
  {
   "cell_type": "code",
   "execution_count": 1,
   "metadata": {},
   "outputs": [
    {
     "name": "stdout",
     "output_type": "stream",
     "text": [
      "Requirement already satisfied: pandas==2.2.1 in c:\\users\\tretec\\documents\\mva\\s2\\[mallat]\\data_challenge_elmy\\.venv\\lib\\site-packages (2.2.1)\n",
      "Requirement already satisfied: numpy<2,>=1.23.2 in c:\\users\\tretec\\documents\\mva\\s2\\[mallat]\\data_challenge_elmy\\.venv\\lib\\site-packages (from pandas==2.2.1) (1.26.4)\n",
      "Requirement already satisfied: python-dateutil>=2.8.2 in c:\\users\\tretec\\documents\\mva\\s2\\[mallat]\\data_challenge_elmy\\.venv\\lib\\site-packages (from pandas==2.2.1) (2.8.2)\n",
      "Requirement already satisfied: pytz>=2020.1 in c:\\users\\tretec\\documents\\mva\\s2\\[mallat]\\data_challenge_elmy\\.venv\\lib\\site-packages (from pandas==2.2.1) (2024.1)\n",
      "Requirement already satisfied: tzdata>=2022.7 in c:\\users\\tretec\\documents\\mva\\s2\\[mallat]\\data_challenge_elmy\\.venv\\lib\\site-packages (from pandas==2.2.1) (2024.1)\n",
      "Requirement already satisfied: six>=1.5 in c:\\users\\tretec\\documents\\mva\\s2\\[mallat]\\data_challenge_elmy\\.venv\\lib\\site-packages (from python-dateutil>=2.8.2->pandas==2.2.1) (1.16.0)\n"
     ]
    }
   ],
   "source": [
    "!pip install pandas==2.2.1"
   ]
  },
  {
   "cell_type": "code",
   "execution_count": 2,
   "metadata": {},
   "outputs": [
    {
     "name": "stdout",
     "output_type": "stream",
     "text": [
      "pandas==2.2.1\n",
      "numpy==1.26.4\n",
      "seaborn==0.13.2\n"
     ]
    }
   ],
   "source": [
    "import pandas as pd\n",
    "import numpy as np\n",
    "import matplotlib.pyplot as plt\n",
    "%matplotlib inline\n",
    "import seaborn as sns\n",
    "from sklearn.ensemble import RandomForestClassifier\n",
    "from sklearn.model_selection import train_test_split\n",
    "from sklearn.metrics import accuracy_score\n",
    "from sklearn.preprocessing import RobustScaler\n",
    "print('\\n'.join(f'{m.__name__}=={m.__version__}' for m in globals().values() if getattr(m, '__version__', None)))"
   ]
  },
  {
   "cell_type": "code",
   "execution_count": 3,
   "metadata": {},
   "outputs": [],
   "source": [
    "TRAIN_INPUT = \"data/x_train.csv\"\n",
    "TRAIN_OUTPUT = \"data/y_train.csv\"\n",
    "TEST_INPUT = \"data/x_test.csv\""
   ]
  },
  {
   "cell_type": "code",
   "execution_count": 130,
   "metadata": {},
   "outputs": [],
   "source": [
    "x_train_raw = pd.read_csv(TRAIN_INPUT, index_col= 'DELIVERY_START', parse_dates=True)\n",
    "y_train_raw = pd.read_csv(TRAIN_OUTPUT, index_col= 'DELIVERY_START', parse_dates=True)\n",
    "x_test_raw = pd.read_csv(TEST_INPUT, index_col= 'DELIVERY_START', parse_dates=True)"
   ]
  },
  {
   "cell_type": "code",
   "execution_count": 131,
   "metadata": {},
   "outputs": [
    {
     "data": {
      "text/plain": [
       "DatetimeIndex(['2023-04-02 00:00:00+02:00', '2023-04-02 01:00:00+02:00',\n",
       "               '2023-04-02 02:00:00+02:00', '2023-04-02 03:00:00+02:00',\n",
       "               '2023-04-02 04:00:00+02:00', '2023-04-02 05:00:00+02:00',\n",
       "               '2023-04-02 06:00:00+02:00', '2023-04-02 07:00:00+02:00',\n",
       "               '2023-04-02 08:00:00+02:00', '2023-04-02 09:00:00+02:00',\n",
       "               ...\n",
       "               '2023-10-24 14:00:00+02:00', '2023-10-24 15:00:00+02:00',\n",
       "               '2023-10-24 16:00:00+02:00', '2023-10-24 17:00:00+02:00',\n",
       "               '2023-10-24 18:00:00+02:00', '2023-10-24 19:00:00+02:00',\n",
       "               '2023-10-24 20:00:00+02:00', '2023-10-24 21:00:00+02:00',\n",
       "               '2023-10-24 22:00:00+02:00', '2023-10-24 23:00:00+02:00'],\n",
       "              dtype='datetime64[ns, UTC+02:00]', name='DELIVERY_START', length=4942, freq=None)"
      ]
     },
     "execution_count": 131,
     "metadata": {},
     "output_type": "execute_result"
    }
   ],
   "source": [
    "x_test_raw.index"
   ]
  },
  {
   "cell_type": "code",
   "execution_count": 132,
   "metadata": {},
   "outputs": [],
   "source": [
    "#datetime data\n",
    "x_train = x_train_raw.set_index(pd.to_datetime(x_train_raw.index, utc=True))\n",
    "y_train = y_train_raw.set_index(pd.to_datetime(y_train_raw.index, utc=True))\n",
    "x_test = x_test_raw.set_index(pd.to_datetime(x_test_raw.index, utc=True))"
   ]
  },
  {
   "cell_type": "code",
   "execution_count": 133,
   "metadata": {},
   "outputs": [
    {
     "name": "stdout",
     "output_type": "stream",
     "text": [
      "Training data : from 2022-01-01 01:00:00+00:00 to 2023-03-29 21:00:00+00:00\n",
      "Test data : from 2023-04-01 22:00:00+00:00 to 2023-10-24 21:00:00+00:00\n"
     ]
    }
   ],
   "source": [
    "print(f\"Training data : from {x_train.index.min()} to {x_train.index.max()}\")\n",
    "print(f\"Test data : from {x_test.index.min()} to {x_test.index.max()}\")"
   ]
  },
  {
   "cell_type": "markdown",
   "metadata": {},
   "source": [
    "https://public.opendatasoft.com/explore/dataset/donnees-synop-essentielles-omm/table/?q.timerange.date=date:%5B2021-12-31T23:00:00Z+TO+2023-10-24T21:59:59Z%5D&refine.nom=ORLY&refine.nom_reg=%C3%8Ele-de-France&sort=-date"
   ]
  },
  {
   "cell_type": "code",
   "execution_count": 134,
   "metadata": {},
   "outputs": [
    {
     "data": {
      "text/html": [
       "<div>\n",
       "<style scoped>\n",
       "    .dataframe tbody tr th:only-of-type {\n",
       "        vertical-align: middle;\n",
       "    }\n",
       "\n",
       "    .dataframe tbody tr th {\n",
       "        vertical-align: top;\n",
       "    }\n",
       "\n",
       "    .dataframe thead th {\n",
       "        text-align: right;\n",
       "    }\n",
       "</style>\n",
       "<table border=\"1\" class=\"dataframe\">\n",
       "  <thead>\n",
       "    <tr style=\"text-align: right;\">\n",
       "      <th></th>\n",
       "      <th>Date</th>\n",
       "      <th>Température (°C)</th>\n",
       "    </tr>\n",
       "  </thead>\n",
       "  <tbody>\n",
       "    <tr>\n",
       "      <th>0</th>\n",
       "      <td>2022-01-01T01:00:00+01:00</td>\n",
       "      <td>9.7</td>\n",
       "    </tr>\n",
       "    <tr>\n",
       "      <th>1</th>\n",
       "      <td>2022-01-01T04:00:00+01:00</td>\n",
       "      <td>8.9</td>\n",
       "    </tr>\n",
       "    <tr>\n",
       "      <th>2</th>\n",
       "      <td>2022-01-01T07:00:00+01:00</td>\n",
       "      <td>7.8</td>\n",
       "    </tr>\n",
       "    <tr>\n",
       "      <th>3</th>\n",
       "      <td>2022-01-01T10:00:00+01:00</td>\n",
       "      <td>7.5</td>\n",
       "    </tr>\n",
       "    <tr>\n",
       "      <th>4</th>\n",
       "      <td>2022-01-01T13:00:00+01:00</td>\n",
       "      <td>12.2</td>\n",
       "    </tr>\n",
       "  </tbody>\n",
       "</table>\n",
       "</div>"
      ],
      "text/plain": [
       "                        Date  Température (°C)\n",
       "0  2022-01-01T01:00:00+01:00               9.7\n",
       "1  2022-01-01T04:00:00+01:00               8.9\n",
       "2  2022-01-01T07:00:00+01:00               7.8\n",
       "3  2022-01-01T10:00:00+01:00               7.5\n",
       "4  2022-01-01T13:00:00+01:00              12.2"
      ]
     },
     "execution_count": 134,
     "metadata": {},
     "output_type": "execute_result"
    }
   ],
   "source": [
    "temp = pd.read_csv('data/ods_temperature.csv', encoding='latin-1', sep=';', parse_dates=True)\n",
    "temp.head()"
   ]
  },
  {
   "cell_type": "code",
   "execution_count": 135,
   "metadata": {},
   "outputs": [],
   "source": [
    "temp.Date = pd.to_datetime(temp.Date, utc=True)"
   ]
  },
  {
   "cell_type": "code",
   "execution_count": 136,
   "metadata": {},
   "outputs": [
    {
     "data": {
      "text/html": [
       "<div>\n",
       "<style scoped>\n",
       "    .dataframe tbody tr th:only-of-type {\n",
       "        vertical-align: middle;\n",
       "    }\n",
       "\n",
       "    .dataframe tbody tr th {\n",
       "        vertical-align: top;\n",
       "    }\n",
       "\n",
       "    .dataframe thead th {\n",
       "        text-align: right;\n",
       "    }\n",
       "</style>\n",
       "<table border=\"1\" class=\"dataframe\">\n",
       "  <thead>\n",
       "    <tr style=\"text-align: right;\">\n",
       "      <th></th>\n",
       "      <th>Température (°C)</th>\n",
       "    </tr>\n",
       "    <tr>\n",
       "      <th>Date</th>\n",
       "      <th></th>\n",
       "    </tr>\n",
       "  </thead>\n",
       "  <tbody>\n",
       "    <tr>\n",
       "      <th>2022-01-01 00:00:00+00:00</th>\n",
       "      <td>9.7</td>\n",
       "    </tr>\n",
       "    <tr>\n",
       "      <th>2022-01-01 03:00:00+00:00</th>\n",
       "      <td>8.9</td>\n",
       "    </tr>\n",
       "    <tr>\n",
       "      <th>2022-01-01 06:00:00+00:00</th>\n",
       "      <td>7.8</td>\n",
       "    </tr>\n",
       "    <tr>\n",
       "      <th>2022-01-01 09:00:00+00:00</th>\n",
       "      <td>7.5</td>\n",
       "    </tr>\n",
       "    <tr>\n",
       "      <th>2022-01-01 12:00:00+00:00</th>\n",
       "      <td>12.2</td>\n",
       "    </tr>\n",
       "  </tbody>\n",
       "</table>\n",
       "</div>"
      ],
      "text/plain": [
       "                           Température (°C)\n",
       "Date                                       \n",
       "2022-01-01 00:00:00+00:00               9.7\n",
       "2022-01-01 03:00:00+00:00               8.9\n",
       "2022-01-01 06:00:00+00:00               7.8\n",
       "2022-01-01 09:00:00+00:00               7.5\n",
       "2022-01-01 12:00:00+00:00              12.2"
      ]
     },
     "execution_count": 136,
     "metadata": {},
     "output_type": "execute_result"
    }
   ],
   "source": [
    "temp.set_index('Date', inplace=True)\n",
    "temp.head()"
   ]
  },
  {
   "cell_type": "code",
   "execution_count": 137,
   "metadata": {},
   "outputs": [],
   "source": [
    "temp = temp.resample('1h').mean().interpolate()"
   ]
  },
  {
   "cell_type": "code",
   "execution_count": 138,
   "metadata": {},
   "outputs": [],
   "source": [
    "# all = pd.concat((x_train,x_test)).resample('1h').mean()\n",
    "# null_indices = all['predicted_spot_price'][all['predicted_spot_price'].isnull()].index\n",
    "# non_null_indices = pd.DatetimeIndex([i for i in all.index if i not in null_indices])\n",
    "# for date in non_null_indices:\n",
    "#     all.loc[(all.index.dayofyear==date.dayofyear)&(all.index.hour==date.hour),'predicted_spot_price']=all.loc[date,'predicted_spot_price']\n",
    "# x_train['predicted_spot_price'] = all.loc[x_train.index,'predicted_spot_price']"
   ]
  },
  {
   "cell_type": "code",
   "execution_count": 139,
   "metadata": {},
   "outputs": [
    {
     "name": "stdout",
     "output_type": "stream",
     "text": [
      "COLUMN :  load_forecast\n",
      "COLUMN :  coal_power_available\n",
      "Could not decompose coal_power_available into trend/seasonality, doing simple interpolation\n",
      "COLUMN :  gas_power_available\n",
      "COLUMN :  nucelear_power_available\n",
      "COLUMN :  wind_power_forecasts_average\n",
      "COLUMN :  solar_power_forecasts_average\n",
      "COLUMN :  wind_power_forecasts_std\n",
      "COLUMN :  solar_power_forecasts_std\n",
      "COLUMN :  predicted_spot_price\n",
      "Could not decompose predicted_spot_price into trend/seasonality, doing simple interpolation\n",
      "COLUMN :  original\n",
      "Could not decompose original into trend/seasonality, doing simple interpolation\n",
      "COLUMN :  load_forecast\n",
      "COLUMN :  coal_power_available\n",
      "COLUMN :  gas_power_available\n",
      "COLUMN :  nucelear_power_available\n",
      "COLUMN :  wind_power_forecasts_average\n",
      "COLUMN :  solar_power_forecasts_average\n",
      "COLUMN :  wind_power_forecasts_std\n",
      "COLUMN :  solar_power_forecasts_std\n",
      "COLUMN :  predicted_spot_price\n",
      "Could not decompose predicted_spot_price into trend/seasonality, doing simple interpolation\n",
      "COLUMN :  original\n",
      "COLUMN :  spot_id_delta\n",
      "COLUMN :  original\n",
      "Could not decompose original into trend/seasonality, doing simple interpolation\n"
     ]
    }
   ],
   "source": [
    "from src.processing import process_features,process_target\n",
    "\n",
    "x_train_processed, x_test_processed, original_x_train_indices, original_x_test_indices = process_features(x_train, x_test, impute_nan=True)\n",
    "y_train_processed, original_y_train_indices = process_target(y_train, impute_nan=True)"
   ]
  },
  {
   "cell_type": "code",
   "execution_count": 140,
   "metadata": {},
   "outputs": [
    {
     "data": {
      "text/plain": [
       "0.9757107369583218"
      ]
     },
     "execution_count": 140,
     "metadata": {},
     "output_type": "execute_result"
    }
   ],
   "source": [
    "len(original_y_train_indices)/y_train_processed.shape[0]"
   ]
  },
  {
   "cell_type": "code",
   "execution_count": 141,
   "metadata": {},
   "outputs": [],
   "source": [
    "null_indices = x_train_processed.loc[x_train_processed['predicted_spot_price'].isna()].index\n",
    "non_null_indices = [i for i in x_train_processed.index if i not in null_indices]"
   ]
  },
  {
   "cell_type": "markdown",
   "metadata": {},
   "source": [
    "### Feature engineering (categorical and lags)\n",
    "* SUNLIGHT : (0 or 1), à partir des éphémérides de la journée \n",
    "* JOURNEES SPECIALES : Dummy variables for Mondays, Saturdays, Sundays, Holidays (France)\n",
    "* LAGS : Lags de la variable cible $\\{6,12,24,24*2,24*3,24*7,24*10,24*15,24*30\\}$\n",
    "* ECART OFFRE DEMANDE : conso - prod\n",
    "* LAGS : Lags de conso-prod $\\{6,12,24,-6,-12,-24\\}$\n",
    "* TEMPERATURE : Température horaire France"
   ]
  },
  {
   "cell_type": "code",
   "execution_count": 142,
   "metadata": {},
   "outputs": [],
   "source": [
    "# # LAGGED TARGET -----------------------------------------------------\n",
    "# for i in [6,12,24,24*2,24*3,24*7]:\n",
    "#     x_train_processed[f'target_lag_{i}'] = y_train_processed.shift(i)"
   ]
  },
  {
   "cell_type": "code",
   "execution_count": 143,
   "metadata": {},
   "outputs": [
    {
     "name": "stdout",
     "output_type": "stream",
     "text": [
      "2024-03-13 06:08:00\n"
     ]
    }
   ],
   "source": [
    "# SUNLIGHT -----------------------------------------------------------\n",
    "from datetime import datetime\n",
    "from suntimes import SunTimes  \n",
    "day = datetime(2024,3,13)\n",
    "paris = SunTimes(2.349902, 48.852968, 35)\n",
    "print(paris.riseutc(day))\n",
    "\n",
    "x_train_processed['sunrise'] = x_train_processed.index.map(lambda x: paris.riseutc(x))\n",
    "x_train_processed['sunset'] = x_train_processed.index.map(lambda x: paris.setutc(x))\n",
    "x_train_processed['sunlight'] = 0\n",
    "x_train_processed.loc[(x_train_processed.index>= x_train_processed.sunrise) & (x_train_processed.index<=x_train_processed.sunset),'sunlight']=1\n",
    "x_train_processed.drop(['sunrise','sunset'], axis=1, inplace=True)\n",
    "\n",
    "x_test_processed['sunrise'] = x_test_processed.index.map(lambda x: paris.riseutc(x))\n",
    "x_test_processed['sunset'] = x_test_processed.index.map(lambda x: paris.setutc(x))\n",
    "x_test_processed['sunlight'] = 0\n",
    "x_test_processed.loc[(x_test_processed.index>= x_test_processed.sunrise) & (x_test_processed.index<=x_test_processed.sunset),'sunlight']=1\n",
    "x_test_processed.drop(['sunrise','sunset'], axis=1, inplace=True)"
   ]
  },
  {
   "cell_type": "code",
   "execution_count": 144,
   "metadata": {},
   "outputs": [],
   "source": [
    "# # JOURNEES SPECIALES -----------------------------------------\n",
    "# #Monday, Saturday, Sunday\n",
    "# x_train_small['monday'] = (x_train_small.index.dayofweek == 0).astype(int)\n",
    "# x_train_small['saturday'] = (x_train_small.index.dayofweek == 5).astype(int)\n",
    "# x_train_small['sunday'] = (x_train_small.index.dayofweek == 6).astype(int)\n",
    "\n",
    "# x_test_processed['monday'] = (x_test_processed.index.dayofweek == 0).astype(int)\n",
    "# x_test_processed['saturday'] = (x_test_processed.index.dayofweek == 5).astype(int)\n",
    "# x_test_processed['sunday'] = (x_test_processed.index.dayofweek == 6).astype(int)"
   ]
  },
  {
   "cell_type": "code",
   "execution_count": 145,
   "metadata": {},
   "outputs": [],
   "source": [
    "# Jours fériés\n",
    "from jours_feries_france import JoursFeries\n",
    "\n",
    "holidays = []\n",
    "for year in [2022, 2023]:\n",
    "    holidays += list(JoursFeries.for_year(year).values())\n",
    "\n",
    "x_train_processed['holiday'] = 0\n",
    "for holiday in holidays:\n",
    "    x_train_processed.loc[x_train_processed.index.date == holiday, 'holiday'] = 1\n",
    "\n",
    "x_test_processed['holiday'] = 0\n",
    "for holiday in holidays:\n",
    "    x_test_processed.loc[x_test_processed.index.date == holiday, 'holiday'] = 1\n"
   ]
  },
  {
   "cell_type": "code",
   "execution_count": 146,
   "metadata": {},
   "outputs": [],
   "source": [
    "# TEMPERATURE --------------------------------------------------\n",
    "from sklearn.preprocessing import StandardScaler\n",
    "\n",
    "x_train_processed['temperature'] = temp.loc[x_train_processed.index, 'Température (°C)']\n",
    "x_test_processed['temperature'] = temp.loc[x_test_processed.index, 'Température (°C)']\n",
    "scaler = StandardScaler()\n",
    "x_train_processed['temperature'] = scaler.fit_transform(pd.DataFrame(x_train_processed['temperature']))\n",
    "x_test_processed['temperature'] = scaler.transform(pd.DataFrame(x_test_processed['temperature']))"
   ]
  },
  {
   "cell_type": "code",
   "execution_count": 147,
   "metadata": {},
   "outputs": [
    {
     "data": {
      "text/html": [
       "<div>\n",
       "<style scoped>\n",
       "    .dataframe tbody tr th:only-of-type {\n",
       "        vertical-align: middle;\n",
       "    }\n",
       "\n",
       "    .dataframe tbody tr th {\n",
       "        vertical-align: top;\n",
       "    }\n",
       "\n",
       "    .dataframe thead th {\n",
       "        text-align: right;\n",
       "    }\n",
       "</style>\n",
       "<table border=\"1\" class=\"dataframe\">\n",
       "  <thead>\n",
       "    <tr style=\"text-align: right;\">\n",
       "      <th></th>\n",
       "      <th>load_forecast</th>\n",
       "      <th>coal_power_available</th>\n",
       "      <th>gas_power_available</th>\n",
       "      <th>nucelear_power_available</th>\n",
       "      <th>wind_power_forecasts_average</th>\n",
       "      <th>solar_power_forecasts_average</th>\n",
       "      <th>wind_power_forecasts_std</th>\n",
       "      <th>solar_power_forecasts_std</th>\n",
       "      <th>predicted_spot_price</th>\n",
       "      <th>conso_prod_delta</th>\n",
       "      <th>month_rad</th>\n",
       "      <th>hour_rad</th>\n",
       "      <th>weekday_rad</th>\n",
       "      <th>dayofyear_rad</th>\n",
       "      <th>sunlight</th>\n",
       "      <th>holiday</th>\n",
       "      <th>temperature</th>\n",
       "    </tr>\n",
       "    <tr>\n",
       "      <th>DELIVERY_START</th>\n",
       "      <th></th>\n",
       "      <th></th>\n",
       "      <th></th>\n",
       "      <th></th>\n",
       "      <th></th>\n",
       "      <th></th>\n",
       "      <th></th>\n",
       "      <th></th>\n",
       "      <th></th>\n",
       "      <th></th>\n",
       "      <th></th>\n",
       "      <th></th>\n",
       "      <th></th>\n",
       "      <th></th>\n",
       "      <th></th>\n",
       "      <th></th>\n",
       "      <th></th>\n",
       "    </tr>\n",
       "  </thead>\n",
       "  <tbody>\n",
       "    <tr>\n",
       "      <th>2023-01-03 00:00:00+00:00</th>\n",
       "      <td>-0.392943</td>\n",
       "      <td>1.152269</td>\n",
       "      <td>1.000857</td>\n",
       "      <td>0.928201</td>\n",
       "      <td>-0.209653</td>\n",
       "      <td>-0.713405</td>\n",
       "      <td>-0.464296</td>\n",
       "      <td>-0.587373</td>\n",
       "      <td>-0.674089</td>\n",
       "      <td>-1.202486</td>\n",
       "      <td>0.523599</td>\n",
       "      <td>0.000000</td>\n",
       "      <td>0.897598</td>\n",
       "      <td>0.051643</td>\n",
       "      <td>0</td>\n",
       "      <td>0</td>\n",
       "      <td>-0.861275</td>\n",
       "    </tr>\n",
       "    <tr>\n",
       "      <th>2023-01-03 01:00:00+00:00</th>\n",
       "      <td>-0.451817</td>\n",
       "      <td>1.152269</td>\n",
       "      <td>1.000857</td>\n",
       "      <td>0.928201</td>\n",
       "      <td>-0.137003</td>\n",
       "      <td>-0.713405</td>\n",
       "      <td>-0.290878</td>\n",
       "      <td>-0.587373</td>\n",
       "      <td>-0.801559</td>\n",
       "      <td>-1.317172</td>\n",
       "      <td>0.523599</td>\n",
       "      <td>0.261799</td>\n",
       "      <td>0.897598</td>\n",
       "      <td>0.051643</td>\n",
       "      <td>0</td>\n",
       "      <td>0</td>\n",
       "      <td>-0.896824</td>\n",
       "    </tr>\n",
       "    <tr>\n",
       "      <th>2023-01-03 02:00:00+00:00</th>\n",
       "      <td>-0.631250</td>\n",
       "      <td>1.152269</td>\n",
       "      <td>1.000857</td>\n",
       "      <td>0.928201</td>\n",
       "      <td>-0.086661</td>\n",
       "      <td>-0.713405</td>\n",
       "      <td>-0.435678</td>\n",
       "      <td>-0.587373</td>\n",
       "      <td>-0.960448</td>\n",
       "      <td>-1.593578</td>\n",
       "      <td>0.523599</td>\n",
       "      <td>0.523599</td>\n",
       "      <td>0.897598</td>\n",
       "      <td>0.051643</td>\n",
       "      <td>0</td>\n",
       "      <td>0</td>\n",
       "      <td>-0.932372</td>\n",
       "    </tr>\n",
       "    <tr>\n",
       "      <th>2023-01-03 03:00:00+00:00</th>\n",
       "      <td>-0.692573</td>\n",
       "      <td>1.152269</td>\n",
       "      <td>1.000857</td>\n",
       "      <td>0.928201</td>\n",
       "      <td>-0.038429</td>\n",
       "      <td>-0.713405</td>\n",
       "      <td>-0.498970</td>\n",
       "      <td>-0.587373</td>\n",
       "      <td>-1.270447</td>\n",
       "      <td>-1.701306</td>\n",
       "      <td>0.523599</td>\n",
       "      <td>0.785398</td>\n",
       "      <td>0.897598</td>\n",
       "      <td>0.051643</td>\n",
       "      <td>0</td>\n",
       "      <td>0</td>\n",
       "      <td>-0.967921</td>\n",
       "    </tr>\n",
       "    <tr>\n",
       "      <th>2023-01-03 04:00:00+00:00</th>\n",
       "      <td>-0.474858</td>\n",
       "      <td>1.152269</td>\n",
       "      <td>1.000857</td>\n",
       "      <td>0.928201</td>\n",
       "      <td>0.002267</td>\n",
       "      <td>-0.713405</td>\n",
       "      <td>-0.582115</td>\n",
       "      <td>-0.587373</td>\n",
       "      <td>-1.184569</td>\n",
       "      <td>-1.409436</td>\n",
       "      <td>0.523599</td>\n",
       "      <td>1.047198</td>\n",
       "      <td>0.897598</td>\n",
       "      <td>0.051643</td>\n",
       "      <td>0</td>\n",
       "      <td>0</td>\n",
       "      <td>-0.910154</td>\n",
       "    </tr>\n",
       "    <tr>\n",
       "      <th>...</th>\n",
       "      <td>...</td>\n",
       "      <td>...</td>\n",
       "      <td>...</td>\n",
       "      <td>...</td>\n",
       "      <td>...</td>\n",
       "      <td>...</td>\n",
       "      <td>...</td>\n",
       "      <td>...</td>\n",
       "      <td>...</td>\n",
       "      <td>...</td>\n",
       "      <td>...</td>\n",
       "      <td>...</td>\n",
       "      <td>...</td>\n",
       "      <td>...</td>\n",
       "      <td>...</td>\n",
       "      <td>...</td>\n",
       "      <td>...</td>\n",
       "    </tr>\n",
       "    <tr>\n",
       "      <th>2023-03-29 17:00:00+00:00</th>\n",
       "      <td>-0.162619</td>\n",
       "      <td>1.152269</td>\n",
       "      <td>1.015195</td>\n",
       "      <td>0.392532</td>\n",
       "      <td>0.923799</td>\n",
       "      <td>-0.472440</td>\n",
       "      <td>0.934240</td>\n",
       "      <td>-0.404489</td>\n",
       "      <td>-0.876665</td>\n",
       "      <td>-0.919250</td>\n",
       "      <td>1.570796</td>\n",
       "      <td>4.450590</td>\n",
       "      <td>1.795196</td>\n",
       "      <td>1.514850</td>\n",
       "      <td>1</td>\n",
       "      <td>0</td>\n",
       "      <td>0.987254</td>\n",
       "    </tr>\n",
       "    <tr>\n",
       "      <th>2023-03-29 18:00:00+00:00</th>\n",
       "      <td>-0.179492</td>\n",
       "      <td>1.152269</td>\n",
       "      <td>1.015195</td>\n",
       "      <td>0.392532</td>\n",
       "      <td>1.160739</td>\n",
       "      <td>-0.673059</td>\n",
       "      <td>0.233643</td>\n",
       "      <td>-0.528122</td>\n",
       "      <td>-0.351523</td>\n",
       "      <td>-0.974660</td>\n",
       "      <td>1.570796</td>\n",
       "      <td>4.712389</td>\n",
       "      <td>1.795196</td>\n",
       "      <td>1.514850</td>\n",
       "      <td>1</td>\n",
       "      <td>0</td>\n",
       "      <td>0.938375</td>\n",
       "    </tr>\n",
       "    <tr>\n",
       "      <th>2023-03-29 19:00:00+00:00</th>\n",
       "      <td>-0.399656</td>\n",
       "      <td>1.152269</td>\n",
       "      <td>1.015195</td>\n",
       "      <td>0.392532</td>\n",
       "      <td>1.394965</td>\n",
       "      <td>-0.713405</td>\n",
       "      <td>0.012556</td>\n",
       "      <td>-0.587373</td>\n",
       "      <td>0.018021</td>\n",
       "      <td>-1.373484</td>\n",
       "      <td>1.570796</td>\n",
       "      <td>4.974188</td>\n",
       "      <td>1.795196</td>\n",
       "      <td>1.514850</td>\n",
       "      <td>0</td>\n",
       "      <td>0</td>\n",
       "      <td>0.885052</td>\n",
       "    </tr>\n",
       "    <tr>\n",
       "      <th>2023-03-29 20:00:00+00:00</th>\n",
       "      <td>-0.420883</td>\n",
       "      <td>1.152269</td>\n",
       "      <td>1.015195</td>\n",
       "      <td>0.392532</td>\n",
       "      <td>1.552021</td>\n",
       "      <td>-0.713405</td>\n",
       "      <td>0.240328</td>\n",
       "      <td>-0.587373</td>\n",
       "      <td>-0.019981</td>\n",
       "      <td>-1.470774</td>\n",
       "      <td>1.570796</td>\n",
       "      <td>5.235988</td>\n",
       "      <td>1.795196</td>\n",
       "      <td>1.514850</td>\n",
       "      <td>0</td>\n",
       "      <td>0</td>\n",
       "      <td>0.831729</td>\n",
       "    </tr>\n",
       "    <tr>\n",
       "      <th>2023-03-29 21:00:00+00:00</th>\n",
       "      <td>-0.377612</td>\n",
       "      <td>1.152269</td>\n",
       "      <td>1.015195</td>\n",
       "      <td>0.392532</td>\n",
       "      <td>1.703952</td>\n",
       "      <td>-0.713405</td>\n",
       "      <td>0.603236</td>\n",
       "      <td>-0.587373</td>\n",
       "      <td>-0.511310</td>\n",
       "      <td>-1.474253</td>\n",
       "      <td>1.570796</td>\n",
       "      <td>5.497787</td>\n",
       "      <td>1.795196</td>\n",
       "      <td>1.514850</td>\n",
       "      <td>0</td>\n",
       "      <td>0</td>\n",
       "      <td>0.778406</td>\n",
       "    </tr>\n",
       "  </tbody>\n",
       "</table>\n",
       "<p>2062 rows × 17 columns</p>\n",
       "</div>"
      ],
      "text/plain": [
       "                           load_forecast  coal_power_available  \\\n",
       "DELIVERY_START                                                   \n",
       "2023-01-03 00:00:00+00:00      -0.392943              1.152269   \n",
       "2023-01-03 01:00:00+00:00      -0.451817              1.152269   \n",
       "2023-01-03 02:00:00+00:00      -0.631250              1.152269   \n",
       "2023-01-03 03:00:00+00:00      -0.692573              1.152269   \n",
       "2023-01-03 04:00:00+00:00      -0.474858              1.152269   \n",
       "...                                  ...                   ...   \n",
       "2023-03-29 17:00:00+00:00      -0.162619              1.152269   \n",
       "2023-03-29 18:00:00+00:00      -0.179492              1.152269   \n",
       "2023-03-29 19:00:00+00:00      -0.399656              1.152269   \n",
       "2023-03-29 20:00:00+00:00      -0.420883              1.152269   \n",
       "2023-03-29 21:00:00+00:00      -0.377612              1.152269   \n",
       "\n",
       "                           gas_power_available  nucelear_power_available  \\\n",
       "DELIVERY_START                                                             \n",
       "2023-01-03 00:00:00+00:00             1.000857                  0.928201   \n",
       "2023-01-03 01:00:00+00:00             1.000857                  0.928201   \n",
       "2023-01-03 02:00:00+00:00             1.000857                  0.928201   \n",
       "2023-01-03 03:00:00+00:00             1.000857                  0.928201   \n",
       "2023-01-03 04:00:00+00:00             1.000857                  0.928201   \n",
       "...                                        ...                       ...   \n",
       "2023-03-29 17:00:00+00:00             1.015195                  0.392532   \n",
       "2023-03-29 18:00:00+00:00             1.015195                  0.392532   \n",
       "2023-03-29 19:00:00+00:00             1.015195                  0.392532   \n",
       "2023-03-29 20:00:00+00:00             1.015195                  0.392532   \n",
       "2023-03-29 21:00:00+00:00             1.015195                  0.392532   \n",
       "\n",
       "                           wind_power_forecasts_average  \\\n",
       "DELIVERY_START                                            \n",
       "2023-01-03 00:00:00+00:00                     -0.209653   \n",
       "2023-01-03 01:00:00+00:00                     -0.137003   \n",
       "2023-01-03 02:00:00+00:00                     -0.086661   \n",
       "2023-01-03 03:00:00+00:00                     -0.038429   \n",
       "2023-01-03 04:00:00+00:00                      0.002267   \n",
       "...                                                 ...   \n",
       "2023-03-29 17:00:00+00:00                      0.923799   \n",
       "2023-03-29 18:00:00+00:00                      1.160739   \n",
       "2023-03-29 19:00:00+00:00                      1.394965   \n",
       "2023-03-29 20:00:00+00:00                      1.552021   \n",
       "2023-03-29 21:00:00+00:00                      1.703952   \n",
       "\n",
       "                           solar_power_forecasts_average  \\\n",
       "DELIVERY_START                                             \n",
       "2023-01-03 00:00:00+00:00                      -0.713405   \n",
       "2023-01-03 01:00:00+00:00                      -0.713405   \n",
       "2023-01-03 02:00:00+00:00                      -0.713405   \n",
       "2023-01-03 03:00:00+00:00                      -0.713405   \n",
       "2023-01-03 04:00:00+00:00                      -0.713405   \n",
       "...                                                  ...   \n",
       "2023-03-29 17:00:00+00:00                      -0.472440   \n",
       "2023-03-29 18:00:00+00:00                      -0.673059   \n",
       "2023-03-29 19:00:00+00:00                      -0.713405   \n",
       "2023-03-29 20:00:00+00:00                      -0.713405   \n",
       "2023-03-29 21:00:00+00:00                      -0.713405   \n",
       "\n",
       "                           wind_power_forecasts_std  \\\n",
       "DELIVERY_START                                        \n",
       "2023-01-03 00:00:00+00:00                 -0.464296   \n",
       "2023-01-03 01:00:00+00:00                 -0.290878   \n",
       "2023-01-03 02:00:00+00:00                 -0.435678   \n",
       "2023-01-03 03:00:00+00:00                 -0.498970   \n",
       "2023-01-03 04:00:00+00:00                 -0.582115   \n",
       "...                                             ...   \n",
       "2023-03-29 17:00:00+00:00                  0.934240   \n",
       "2023-03-29 18:00:00+00:00                  0.233643   \n",
       "2023-03-29 19:00:00+00:00                  0.012556   \n",
       "2023-03-29 20:00:00+00:00                  0.240328   \n",
       "2023-03-29 21:00:00+00:00                  0.603236   \n",
       "\n",
       "                           solar_power_forecasts_std  predicted_spot_price  \\\n",
       "DELIVERY_START                                                               \n",
       "2023-01-03 00:00:00+00:00                  -0.587373             -0.674089   \n",
       "2023-01-03 01:00:00+00:00                  -0.587373             -0.801559   \n",
       "2023-01-03 02:00:00+00:00                  -0.587373             -0.960448   \n",
       "2023-01-03 03:00:00+00:00                  -0.587373             -1.270447   \n",
       "2023-01-03 04:00:00+00:00                  -0.587373             -1.184569   \n",
       "...                                              ...                   ...   \n",
       "2023-03-29 17:00:00+00:00                  -0.404489             -0.876665   \n",
       "2023-03-29 18:00:00+00:00                  -0.528122             -0.351523   \n",
       "2023-03-29 19:00:00+00:00                  -0.587373              0.018021   \n",
       "2023-03-29 20:00:00+00:00                  -0.587373             -0.019981   \n",
       "2023-03-29 21:00:00+00:00                  -0.587373             -0.511310   \n",
       "\n",
       "                           conso_prod_delta  month_rad  hour_rad  weekday_rad  \\\n",
       "DELIVERY_START                                                                  \n",
       "2023-01-03 00:00:00+00:00         -1.202486   0.523599  0.000000     0.897598   \n",
       "2023-01-03 01:00:00+00:00         -1.317172   0.523599  0.261799     0.897598   \n",
       "2023-01-03 02:00:00+00:00         -1.593578   0.523599  0.523599     0.897598   \n",
       "2023-01-03 03:00:00+00:00         -1.701306   0.523599  0.785398     0.897598   \n",
       "2023-01-03 04:00:00+00:00         -1.409436   0.523599  1.047198     0.897598   \n",
       "...                                     ...        ...       ...          ...   \n",
       "2023-03-29 17:00:00+00:00         -0.919250   1.570796  4.450590     1.795196   \n",
       "2023-03-29 18:00:00+00:00         -0.974660   1.570796  4.712389     1.795196   \n",
       "2023-03-29 19:00:00+00:00         -1.373484   1.570796  4.974188     1.795196   \n",
       "2023-03-29 20:00:00+00:00         -1.470774   1.570796  5.235988     1.795196   \n",
       "2023-03-29 21:00:00+00:00         -1.474253   1.570796  5.497787     1.795196   \n",
       "\n",
       "                           dayofyear_rad  sunlight  holiday  temperature  \n",
       "DELIVERY_START                                                            \n",
       "2023-01-03 00:00:00+00:00       0.051643         0        0    -0.861275  \n",
       "2023-01-03 01:00:00+00:00       0.051643         0        0    -0.896824  \n",
       "2023-01-03 02:00:00+00:00       0.051643         0        0    -0.932372  \n",
       "2023-01-03 03:00:00+00:00       0.051643         0        0    -0.967921  \n",
       "2023-01-03 04:00:00+00:00       0.051643         0        0    -0.910154  \n",
       "...                                  ...       ...      ...          ...  \n",
       "2023-03-29 17:00:00+00:00       1.514850         1        0     0.987254  \n",
       "2023-03-29 18:00:00+00:00       1.514850         1        0     0.938375  \n",
       "2023-03-29 19:00:00+00:00       1.514850         0        0     0.885052  \n",
       "2023-03-29 20:00:00+00:00       1.514850         0        0     0.831729  \n",
       "2023-03-29 21:00:00+00:00       1.514850         0        0     0.778406  \n",
       "\n",
       "[2062 rows x 17 columns]"
      ]
     },
     "execution_count": 147,
     "metadata": {},
     "output_type": "execute_result"
    }
   ],
   "source": [
    "x_train_small = x_train_processed.loc[non_null_indices,:]\n",
    "y_train_small = y_train_processed.loc[non_null_indices,:]\n",
    "x_train_small"
   ]
  },
  {
   "cell_type": "code",
   "execution_count": 148,
   "metadata": {},
   "outputs": [],
   "source": [
    "from src.metrics import weighted_accuracy\n",
    "def evaluate(model, features, target, indices):\n",
    "    predictions = model.predict(features.loc[indices]) *2 - 1\n",
    "    target = target.loc[indices]\n",
    "    return weighted_accuracy(target,predictions)"
   ]
  },
  {
   "cell_type": "code",
   "execution_count": 149,
   "metadata": {},
   "outputs": [
    {
     "data": {
      "text/plain": [
       "0.7208173167671877"
      ]
     },
     "execution_count": 149,
     "metadata": {},
     "output_type": "execute_result"
    }
   ],
   "source": [
    "N_train = int(len(x_train_small)*0.8)\n",
    "dates_indices = [i for i in non_null_indices if i in x_train_processed.iloc[original_x_train_indices].index]\n",
    "x_train_eval, x_valid_eval, train_indices, valid_indices = x_train_small[:N_train], x_train_small[N_train:], dates_indices[:N_train], dates_indices[N_train:]\n",
    "y_train_eval, y_valid_eval = y_train_small[:N_train], y_train_small[N_train:]\n",
    "y_train_eval_cls, _ = process_target(y_train_eval, binarize=True)\n",
    "y_valid_eval_cls, _ = process_target(y_valid_eval, binarize=True)\n",
    "\n",
    "from sklearn.ensemble import RandomForestClassifier\n",
    "clf = RandomForestClassifier(n_estimators=100, random_state=np.random.seed(1234))\n",
    "clf.fit(x_train_eval, y_train_eval_cls)\n",
    "evaluate(clf, x_valid_eval, y_valid_eval, valid_indices)\n"
   ]
  },
  {
   "cell_type": "code",
   "execution_count": 150,
   "metadata": {},
   "outputs": [
    {
     "name": "stderr",
     "output_type": "stream",
     "text": [
      "C:\\Users\\TRETEC\\AppData\\Local\\Temp\\ipykernel_6972\\2991766688.py:1: FutureWarning: Series.fillna with 'method' is deprecated and will raise in a future version. Use obj.ffill() or obj.bfill() instead.\n",
      "  x_test_processed['predicted_spot_price'] = x_test_processed['predicted_spot_price'].fillna(method='ffill').fillna(0)\n"
     ]
    }
   ],
   "source": [
    "x_test_processed['predicted_spot_price'] = x_test_processed['predicted_spot_price'].fillna(method='ffill').fillna(0)"
   ]
  },
  {
   "cell_type": "code",
   "execution_count": 151,
   "metadata": {},
   "outputs": [
    {
     "data": {
      "text/plain": [
       "([<matplotlib.axis.XTick at 0x1c5c74f7750>,\n",
       "  <matplotlib.axis.XTick at 0x1c5c705a790>,\n",
       "  <matplotlib.axis.XTick at 0x1c5c94f4a10>,\n",
       "  <matplotlib.axis.XTick at 0x1c5c9944f50>,\n",
       "  <matplotlib.axis.XTick at 0x1c5c994f210>,\n",
       "  <matplotlib.axis.XTick at 0x1c5c993ee50>,\n",
       "  <matplotlib.axis.XTick at 0x1c5c99859d0>,\n",
       "  <matplotlib.axis.XTick at 0x1c5c997d950>,\n",
       "  <matplotlib.axis.XTick at 0x1c5c9dc45d0>,\n",
       "  <matplotlib.axis.XTick at 0x1c5c9dc6e90>,\n",
       "  <matplotlib.axis.XTick at 0x1c5c9da4f90>,\n",
       "  <matplotlib.axis.XTick at 0x1c5c9da7050>,\n",
       "  <matplotlib.axis.XTick at 0x1c5c9d891d0>,\n",
       "  <matplotlib.axis.XTick at 0x1c5c9d889d0>,\n",
       "  <matplotlib.axis.XTick at 0x1c5c9d8b4d0>,\n",
       "  <matplotlib.axis.XTick at 0x1c5c9d65750>,\n",
       "  <matplotlib.axis.XTick at 0x1c5c9d67b10>],\n",
       " [Text(0.0, 0, 'load_forecast'),\n",
       "  Text(1.0, 0, 'coal_power_available'),\n",
       "  Text(2.0, 0, 'gas_power_available'),\n",
       "  Text(3.0, 0, 'nucelear_power_available'),\n",
       "  Text(4.0, 0, 'wind_power_forecasts_average'),\n",
       "  Text(5.0, 0, 'solar_power_forecasts_average'),\n",
       "  Text(6.0, 0, 'wind_power_forecasts_std'),\n",
       "  Text(7.0, 0, 'solar_power_forecasts_std'),\n",
       "  Text(8.0, 0, 'predicted_spot_price'),\n",
       "  Text(9.0, 0, 'conso_prod_delta'),\n",
       "  Text(10.0, 0, 'month_rad'),\n",
       "  Text(11.0, 0, 'hour_rad'),\n",
       "  Text(12.0, 0, 'weekday_rad'),\n",
       "  Text(13.0, 0, 'dayofyear_rad'),\n",
       "  Text(14.0, 0, 'sunlight'),\n",
       "  Text(15.0, 0, 'holiday'),\n",
       "  Text(16.0, 0, 'temperature')])"
      ]
     },
     "execution_count": 151,
     "metadata": {},
     "output_type": "execute_result"
    },
    {
     "data": {
      "image/png": "[encoded data removed]",
      "text/plain": [
       "<Figure size 640x480 with 1 Axes>"
      ]
     },
     "metadata": {},
     "output_type": "display_data"
    }
   ],
   "source": [
    "clf.feature_importances_\n",
    "clf.feature_names_in_\n",
    "plt.bar(clf.feature_names_in_,clf.feature_importances_)\n",
    "plt.xticks(clf.feature_names_in_, rotation='vertical')"
   ]
  },
  {
   "cell_type": "code",
   "execution_count": 116,
   "metadata": {},
   "outputs": [
    {
     "data": {
      "text/plain": [
       "load_forecast                    0\n",
       "coal_power_available             0\n",
       "gas_power_available              0\n",
       "nucelear_power_available         0\n",
       "wind_power_forecasts_average     0\n",
       "solar_power_forecasts_average    0\n",
       "wind_power_forecasts_std         0\n",
       "solar_power_forecasts_std        0\n",
       "predicted_spot_price             0\n",
       "conso_prod_delta                 0\n",
       "month_rad                        0\n",
       "hour_rad                         0\n",
       "weekday_rad                      0\n",
       "dayofyear_rad                    0\n",
       "sunlight                         0\n",
       "holiday                          0\n",
       "temperature                      0\n",
       "dtype: int64"
      ]
     },
     "execution_count": 116,
     "metadata": {},
     "output_type": "execute_result"
    }
   ],
   "source": [
    "x_test_processed.isna().sum()"
   ]
  },
  {
   "cell_type": "code",
   "execution_count": 153,
   "metadata": {},
   "outputs": [],
   "source": [
    "from datetime import datetime\n",
    "y_test_pred = clf.predict(x_test_processed)*2 -1\n",
    "y_test_pred = y_test_pred[original_x_test_indices]\n",
    "submission = pd.DataFrame(y_test_pred, index=x_test_raw.index, columns=['spot_id_delta'])\n",
    "model_name = 'rf'\n",
    "descr = 'train_small'\n",
    "submission.to_csv(f'submission/{datetime.today().date()}_{model_name}_{descr}.csv', index=True)"
   ]
  },
  {
   "cell_type": "code",
   "execution_count": null,
   "metadata": {},
   "outputs": [],
   "source": []
  }
 ],
 "metadata": {
  "kernelspec": {
   "display_name": ".venv",
   "language": "python",
   "name": "python3"
  },
  "language_info": {
   "codemirror_mode": {
    "name": "ipython",
    "version": 3
   },
   "file_extension": ".py",
   "mimetype": "text/x-python",
   "name": "python",
   "nbconvert_exporter": "python",
   "pygments_lexer": "ipython3",
   "version": "3.11.5"
  }
 },
 "nbformat": 4,
 "nbformat_minor": 2
}
